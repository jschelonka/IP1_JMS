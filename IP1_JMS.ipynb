{
 "cells": [
  {
   "cell_type": "code",
   "execution_count": 2,
   "id": "5bbd5a16",
   "metadata": {},
   "outputs": [
    {
     "name": "stdout",
     "output_type": "stream",
     "text": [
      "Requirement already satisfied: numpy in c:\\users\\jsche\\anaconda3\\lib\\site-packages (1.20.1)\n"
     ]
    }
   ],
   "source": [
    "!pip install numpy\n",
    "import numpy as np"
   ]
  },
  {
   "cell_type": "code",
   "execution_count": null,
   "id": "717c805a",
   "metadata": {},
   "outputs": [],
   "source": []
  },
  {
   "cell_type": "code",
   "execution_count": 6,
   "id": "30b6dd44",
   "metadata": {},
   "outputs": [
    {
     "name": "stdout",
     "output_type": "stream",
     "text": [
      "[[10 20]\n",
      " [30 40]]\n"
     ]
    }
   ],
   "source": [
    "x = np.array([[10,20],[30,40]])\n",
    "print(x)"
   ]
  },
  {
   "cell_type": "code",
   "execution_count": 7,
   "id": "29fae56b",
   "metadata": {},
   "outputs": [
    {
     "name": "stdout",
     "output_type": "stream",
     "text": [
      "[[ 100  400]\n",
      " [ 900 1600]]\n"
     ]
    }
   ],
   "source": [
    "sq = x ** 2\n",
    "print(sq)"
   ]
  },
  {
   "cell_type": "code",
   "execution_count": 8,
   "id": "76d030a5",
   "metadata": {},
   "outputs": [
    {
     "name": "stdout",
     "output_type": "stream",
     "text": [
      "[[110 120]\n",
      " [130 140]]\n"
     ]
    }
   ],
   "source": [
    "hundred = x + 100\n",
    "print(hundred)"
   ]
  },
  {
   "cell_type": "code",
   "execution_count": 9,
   "id": "57e63598",
   "metadata": {},
   "outputs": [
    {
     "name": "stdout",
     "output_type": "stream",
     "text": [
      "[[ 50 100]\n",
      " [150 200]]\n"
     ]
    }
   ],
   "source": [
    "five = x * 5\n",
    "print(five)"
   ]
  },
  {
   "cell_type": "code",
   "execution_count": 11,
   "id": "a96d5aad",
   "metadata": {},
   "outputs": [
    {
     "name": "stdout",
     "output_type": "stream",
     "text": [
      "[[3.16227766 4.47213595]\n",
      " [5.47722558 6.32455532]]\n"
     ]
    }
   ],
   "source": [
    "sqrt = x ** (1/2)\n",
    "print(sqrt)"
   ]
  },
  {
   "cell_type": "code",
   "execution_count": 25,
   "id": "cda324a6",
   "metadata": {},
   "outputs": [
    {
     "data": {
      "text/plain": [
       "array([[ 3,  6,  9],\n",
       "       [12, 15, 18],\n",
       "       [21, 24, 27]])"
      ]
     },
     "execution_count": 25,
     "metadata": {},
     "output_type": "execute_result"
    }
   ],
   "source": [
    "arr1 = np.arange(3,30,3)\n",
    "arr1.reshape(3,3)"
   ]
  },
  {
   "cell_type": "code",
   "execution_count": 30,
   "id": "1de10fda",
   "metadata": {},
   "outputs": [
    {
     "data": {
      "text/plain": [
       "array([[10.        , 11.11111111, 12.22222222],\n",
       "       [13.33333333, 14.44444444, 15.55555556],\n",
       "       [16.66666667, 17.77777778, 18.88888889]])"
      ]
     },
     "execution_count": 30,
     "metadata": {},
     "output_type": "execute_result"
    }
   ],
   "source": [
    "arr2 = np.arange(10,20,(10/9))\n",
    "arr2.reshape(3,3)"
   ]
  },
  {
   "cell_type": "code",
   "execution_count": 31,
   "id": "f4e1411c",
   "metadata": {},
   "outputs": [
    {
     "data": {
      "text/plain": [
       "array([ 30.        ,  66.66666667, 110.        , 160.        ,\n",
       "       216.66666667, 280.        , 350.        , 426.66666667,\n",
       "       510.        ])"
      ]
     },
     "execution_count": 31,
     "metadata": {},
     "output_type": "execute_result"
    }
   ],
   "source": [
    "np.multiply(arr1, arr2)"
   ]
  },
  {
   "cell_type": "code",
   "execution_count": 35,
   "id": "e2a56c86",
   "metadata": {},
   "outputs": [],
   "source": [
    "p1 = np.load('process1.npy')\n",
    "p2 = np.load('process2.npy')\n",
    "p3 = np.load('process3.npy')\n",
    "p4 = np.load('process4.npy')\n",
    "p5 = np.load('process5.npy')"
   ]
  },
  {
   "cell_type": "code",
   "execution_count": 39,
   "id": "bed959d9",
   "metadata": {},
   "outputs": [
    {
     "name": "stdout",
     "output_type": "stream",
     "text": [
      "[[52 12 81  0 58]\n",
      " [96  4 61 16 43]\n",
      " [38 96 45 17 58]\n",
      " [97 21 22 25  6]\n",
      " [77  6 19  2 74]]\n"
     ]
    }
   ],
   "source": [
    "data = np.vstack((p1,p2,p3,p4,p5))\n",
    "print(data)"
   ]
  },
  {
   "cell_type": "code",
   "execution_count": 45,
   "id": "a8bceba1",
   "metadata": {},
   "outputs": [],
   "source": [
    "new_data = data.sum(axis=0)"
   ]
  },
  {
   "cell_type": "code",
   "execution_count": 46,
   "id": "058e2d34",
   "metadata": {},
   "outputs": [
    {
     "name": "stdout",
     "output_type": "stream",
     "text": [
      "[72.  27.8 45.6 12.  47.8]\n"
     ]
    }
   ],
   "source": [
    "data_mean = new_data / 5\n",
    "print(data_mean)"
   ]
  },
  {
   "cell_type": "code",
   "execution_count": null,
   "id": "f27631ac",
   "metadata": {},
   "outputs": [],
   "source": []
  }
 ],
 "metadata": {
  "kernelspec": {
   "display_name": "Python 3",
   "language": "python",
   "name": "python3"
  },
  "language_info": {
   "codemirror_mode": {
    "name": "ipython",
    "version": 3
   },
   "file_extension": ".py",
   "mimetype": "text/x-python",
   "name": "python",
   "nbconvert_exporter": "python",
   "pygments_lexer": "ipython3",
   "version": "3.8.8"
  }
 },
 "nbformat": 4,
 "nbformat_minor": 5
}
